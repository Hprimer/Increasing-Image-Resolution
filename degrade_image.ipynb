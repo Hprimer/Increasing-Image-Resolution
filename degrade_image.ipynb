{
 "cells": [
  {
   "cell_type": "markdown",
   "metadata": {},
   "source": [
    "### degrade_image_shift"
   ]
  },
  {
   "cell_type": "code",
   "execution_count": 8,
   "metadata": {},
   "outputs": [],
   "source": [
    "import cv2\n",
    "import numpy as np\n",
    "import os"
   ]
  },
  {
   "cell_type": "code",
   "execution_count": 9,
   "metadata": {},
   "outputs": [],
   "source": [
    "# Папка с оригинальными изображениями\n",
    "input_folder = \"./content/DIV2K\"\n",
    "\n"
   ]
  },
  {
   "cell_type": "code",
   "execution_count": null,
   "metadata": {},
   "outputs": [
    {
     "name": "stdout",
     "output_type": "stream",
     "text": [
      "Good\n"
     ]
    }
   ],
   "source": [
    "output_folder = \"./content/degraded_shift_test\"\n",
    "os.makedirs(output_folder, exist_ok=True)  # Создаем папку для сохранения\n",
    "\n",
    "# Функция ухудшения через смещение + снижение разрешения \n",
    "def degrade_image_shift(img, scale=5, shift_range=5):\n",
    "    h, w = img.shape[:2]\n",
    "\n",
    "    # 1️ Фильтрация (усредняющее размытие)\n",
    "    blurred = cv2.blur(img, (5, 5), borderType=cv2.BORDER_REPLICATE)\n",
    "\n",
    "    # 2️ Генерация случайного сдвига\n",
    "    shift_x = np.random.uniform(-shift_range, shift_range)  # Горизонтальный сдвиг\n",
    "    shift_y = np.random.uniform(-shift_range, shift_range)  # Вертикальный сдвиг\n",
    "\n",
    "    # 3️ Матрица сдвига\n",
    "    M = np.float32([[1, 0, shift_x], [0, 1, shift_y]])\n",
    "\n",
    "    # 4️ Применяем сдвиг\n",
    "    shifted = cv2.warpAffine(blurred, M, (w, h), flags=cv2.INTER_LINEAR, borderMode=cv2.BORDER_REFLECT)\n",
    "\n",
    "    # 5️ Уменьшаем разрешение (имитация ухудшения)\n",
    "    small = cv2.resize(shifted, (w // scale, h // scale), interpolation=cv2.INTER_LINEAR)\n",
    "\n",
    "    # 6️ Увеличиваем обратно\n",
    "    degraded = cv2.resize(small, (w, h), interpolation=cv2.INTER_LINEAR)\n",
    "\n",
    "    return degraded\n",
    "\n",
    "# Количество ухудшенных версий для каждого изображения\n",
    "num_versions = 10  \n",
    "\n",
    "# Обрабатываем изображения\n",
    "image_files = [f for f in os.listdir(input_folder) if f.endswith((\".png\", \".jpg\"))]\n",
    "\n",
    "for img_name in image_files:\n",
    "    img_path = os.path.join(input_folder, img_name)\n",
    "    img = cv2.imread(img_path)\n",
    "\n",
    "    # Генерируем несколько ухудшенных версий\n",
    "    for i in range(num_versions):\n",
    "        degraded_img = degrade_image_shift(img)\n",
    "\n",
    "        # Сохраняем ухудшенное изображение\n",
    "        save_path = f\"{output_folder}/{img_name[:-4]}_v{i}.jpg\"\n",
    "        cv2.imwrite(save_path, degraded_img)\n",
    "\n",
    "print(\"Good\")"
   ]
  }
 ],
 "metadata": {
  "kernelspec": {
   "display_name": "Python 3",
   "language": "python",
   "name": "python3"
  },
  "language_info": {
   "codemirror_mode": {
    "name": "ipython",
    "version": 3
   },
   "file_extension": ".py",
   "mimetype": "text/x-python",
   "name": "python",
   "nbconvert_exporter": "python",
   "pygments_lexer": "ipython3",
   "version": "3.10.5"
  }
 },
 "nbformat": 4,
 "nbformat_minor": 2
}
