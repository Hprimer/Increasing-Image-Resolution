{
 "cells": [
  {
   "cell_type": "markdown",
   "metadata": {},
   "source": [
    "### degrade_image_shift"
   ]
  },
  {
   "cell_type": "code",
   "execution_count": 3,
   "metadata": {},
   "outputs": [],
   "source": [
    "import cv2\n",
    "import numpy as np\n",
    "import os"
   ]
  },
  {
   "cell_type": "code",
   "execution_count": 4,
   "metadata": {},
   "outputs": [],
   "source": [
    "# Папка с оригинальными изображениями\n",
    "input_folder = \"./content/DIV2K\"\n",
    "\n"
   ]
  },
  {
   "cell_type": "markdown",
   "metadata": {},
   "source": [
    "### filtered and  shifted"
   ]
  },
  {
   "cell_type": "code",
   "execution_count": null,
   "metadata": {},
   "outputs": [
    {
     "name": "stdout",
     "output_type": "stream",
     "text": [
      "Good\n"
     ]
    }
   ],
   "source": [
    "output_folder = \"./content/filtered_shifted\" \n",
    "os.makedirs(output_folder, exist_ok=True)  # Создаем папку для сохранения\n",
    "\n",
    "# Функция ухудшения через смещение + снижение разрешения \n",
    "def degrade_image_shift(img, scale=5, shift_range=5):\n",
    "    h, w = img.shape[:2]\n",
    "\n",
    "    # 1 Фильтрация (усредняющее размытие)\n",
    "    blurred = cv2.blur(img, (5, 5), borderType=cv2.BORDER_REPLICATE)\n",
    "\n",
    "    # 2 Генерация случайного сдвига\n",
    "    shift_x = np.random.uniform(-shift_range, shift_range)  # Горизонтальный сдвиг\n",
    "    shift_y = np.random.uniform(-shift_range, shift_range)  # Вертикальный сдвиг\n",
    "\n",
    "    # 3 Матрица сдвига\n",
    "    M = np.float32([[1, 0, shift_x], [0, 1, shift_y]])\n",
    "\n",
    "    # 4 Применяем сдвиг\n",
    "    shifted = cv2.warpAffine(blurred, M, (w, h), flags=cv2.INTER_LINEAR, borderMode=cv2.BORDER_REFLECT)\n",
    "\n",
    "    # # 5 Уменьшаем разрешение (имитация ухудшения)\n",
    "    # small = cv2.resize(shifted, (w // scale, h // scale), interpolation=cv2.INTER_LINEAR)\n",
    "\n",
    "    # # 6 Увеличиваем обратно\n",
    "    # degraded = cv2.resize(small, (w, h), interpolation=cv2.INTER_LINEAR)\n",
    "\n",
    "    # return degraded\n",
    "    return shifted\n",
    "\n",
    "# Количество ухудшенных версий для каждого изображения\n",
    "num_versions = 10  \n",
    "\n",
    "# Обрабатываем изображения\n",
    "image_files = [f for f in os.listdir(input_folder) if f.endswith((\".png\", \".jpg\"))]\n",
    "\n",
    "for img_name in image_files:\n",
    "    img_path = os.path.join(input_folder, img_name)\n",
    "    img = cv2.imread(img_path)\n",
    "\n",
    "    # Генерируем несколько ухудшенных версий\n",
    "    for i in range(num_versions):\n",
    "        degraded_img = degrade_image_shift(img)\n",
    "\n",
    "        # Сохраняем ухудшенное изображение\n",
    "        save_path = f\"{output_folder}/{img_name[:-4]}_v{i}.jpg\"\n",
    "        cv2.imwrite(save_path, degraded_img)\n",
    "\n",
    "print(\"Good\")"
   ]
  },
  {
   "cell_type": "markdown",
   "metadata": {},
   "source": [
    "### filtered, shifted and rotated"
   ]
  },
  {
   "cell_type": "code",
   "execution_count": null,
   "metadata": {},
   "outputs": [
    {
     "name": "stdout",
     "output_type": "stream",
     "text": [
      "Good\n"
     ]
    }
   ],
   "source": [
    "output_folder = \"./content/filtered_shifted_rotated_BORDER_REPLICATE\"\n",
    "os.makedirs(output_folder, exist_ok=True)  # Создаем папку для сохранения\n",
    "\n",
    "# Функция ухудшения \n",
    "def degrade_image_transform(img, scale=5, shift_range=5, rotation_range=10):\n",
    "    h, w = img.shape[:2]\n",
    "    center = (w // 2, h // 2)  # Центр изображения\n",
    "\n",
    "    # 1 Фильтрация (усредняющее размытие)\n",
    "    blurred = cv2.blur(img, (5, 5), borderType=cv2.BORDER_REPLICATE)\n",
    "\n",
    "    # 2 Генерируем случайные параметры\n",
    "    shift_x = np.random.uniform(-shift_range, shift_range)  # Сдвиг по X\n",
    "    shift_y = np.random.uniform(-shift_range, shift_range)  # Сдвиг по Y\n",
    "    angle = np.random.uniform(-rotation_range, rotation_range)  # Поворот в градусах\n",
    "\n",
    "    # 3 Генерируем координаты для выходного изображения\n",
    "    x_out, y_out = np.meshgrid(np.arange(w), np.arange(h))  \n",
    "\n",
    "    # 4 Применяем преобразование подобия \n",
    "    angle_rad = np.deg2rad(angle)  # Переводим градусы в радианы\n",
    "    cos_fi, sin_fi = np.cos(angle_rad), np.sin(angle_rad)\n",
    "\n",
    "    x_in =  (cos_fi * (x_out - w // 2) + sin_fi * (y_out - h // 2)) + center[0] + shift_x\n",
    "    y_in =  (-sin_fi * (x_out - w // 2) + cos_fi * (y_out - h // 2)) + center[1] + shift_y\n",
    "\n",
    "\n",
    "    # 5 Используем `cv2.remap()` для выборки пикселей с интерполяцией\n",
    "    map_x, map_y = x_in.astype(np.float32), y_in.astype(np.float32)# cv2.remap() требует, чтобы координаты были в формате float32, иначе OpenCV вызовет ошибку\n",
    "    # transformed = cv2.remap(blurred, map_x, map_y, interpolation=cv2.INTER_LINEAR, borderMode=cv2.BORDER_REFLECT)\n",
    "    # transformed = cv2.remap(blurred, map_x, map_y, interpolation=cv2.INTER_LINEAR, borderMode=cv2.BORDER_CONSTANT, borderValue=0)\n",
    "    transformed = cv2.remap(blurred, map_x, map_y, interpolation=cv2.INTER_LINEAR, borderMode=cv2.BORDER_REPLICATE)\n",
    "\n",
    "\n",
    "    return transformed\n",
    "\n",
    "# Обрабатываем изображения\n",
    "image_files = [f for f in os.listdir(input_folder) if f.endswith((\".png\", \".jpg\"))]\n",
    "\n",
    "# Количество ухудшенных версий для каждого изображения\n",
    "num_versions = 10 \n",
    "\n",
    "for img_name in image_files:\n",
    "    img_path = os.path.join(input_folder, img_name)\n",
    "    img = cv2.imread(img_path)\n",
    "\n",
    "    # Генерируем несколько ухудшенных версий\n",
    "    for i in range(num_versions):\n",
    "        degraded_img = degrade_image_transform(img)\n",
    "\n",
    "        # Сохраняем ухудшенное изображение\n",
    "        save_path = f\"{output_folder}/{img_name[:-4]}_v{i}.jpg\"\n",
    "        cv2.imwrite(save_path, degraded_img)\n",
    "\n",
    "\n",
    "print(\"Good\")"
   ]
  },
  {
   "cell_type": "markdown",
   "metadata": {},
   "source": [
    "### filtered, shifted, rotated and scaled"
   ]
  },
  {
   "cell_type": "code",
   "execution_count": 17,
   "metadata": {},
   "outputs": [
    {
     "name": "stdout",
     "output_type": "stream",
     "text": [
      "Good\n"
     ]
    }
   ],
   "source": [
    "output_folder = \"./content/filtered_shifted_rotated_scaled\"\n",
    "os.makedirs(output_folder, exist_ok=True)  # Создаем папку для сохранения\n",
    "\n",
    "# Функция ухудшения через преобразование подобия\n",
    "def degrade_image_transform(img, scale=5, shift_range=5, rotation_range=10):\n",
    "\th, w = img.shape[:2]\n",
    "\tcenter = (w // 2, h // 2)  # Центр изображения\n",
    "\n",
    "\t# 1 Фильтрация (усредняющее размытие)\n",
    "\tblurred = cv2.blur(img, (5, 5), borderType=cv2.BORDER_REPLICATE)\n",
    "\n",
    "\t# 2 Генерируем случайные параметры\n",
    "\tshift_x = np.random.uniform(-shift_range, shift_range)  # Сдвиг по X\n",
    "\tshift_y = np.random.uniform(-shift_range, shift_range)  # Сдвиг по Y\n",
    "\tangle = np.random.uniform(-rotation_range, rotation_range)  # Поворот в градусах\n",
    "\tk = np.random.uniform(scale - 0.5, scale + 0.5)  # Коэффициент уменьшения\n",
    "\n",
    "\t# 3 Генерируем координаты для выходного изображения\n",
    "\tnew_h, new_w = int(h // k), int(w // k)  # Размер уменьшенного изображения\n",
    "\tx_out, y_out = np.meshgrid(np.arange(new_w), np.arange(new_h))  # Координаты в новом пространстве\n",
    "\n",
    "\t# 4 Применяем преобразование подобия \n",
    "\tangle_rad = np.deg2rad(angle)  # Переводим градусы в радианы\n",
    "\tcos_fi, sin_fi = np.cos(angle_rad), np.sin(angle_rad)\n",
    "\n",
    "\tx_in = k * (cos_fi * (x_out - new_w // 2) + sin_fi * (y_out - new_h // 2)) + center[0] + shift_x\n",
    "\ty_in = k * (-sin_fi * (x_out - new_w // 2) + cos_fi * (y_out - new_h // 2)) + center[1] + shift_y\n",
    "\n",
    "\t# 5 Используем `cv2.remap()` для выборки пикселей с интерполяцией\n",
    "\tmap_x, map_y = x_in.astype(np.float32), y_in.astype(np.float32)# cv2.remap() требует, чтобы координаты были в формате float32, иначе OpenCV вызовет ошибку\n",
    "\ttransformed = cv2.remap(blurred, map_x, map_y, interpolation=cv2.INTER_LINEAR, borderMode=cv2.BORDER_REFLECT)\n",
    "\t# transformed = cv2.remap(blurred, map_x, map_y, interpolation=cv2.INTER_LINEAR, borderMode=cv2.BORDER_CONSTANT, borderValue=0)\n",
    "\t# transformed = cv2.remap(blurred, map_x, map_y, interpolation=cv2.INTER_LINEAR, borderMode=cv2.BORDER_REPLICATE)\n",
    "\n",
    "\t# 6 Увеличиваем обратно\n",
    "\tdegraded = cv2.resize(transformed, (w, h), interpolation=cv2.INTER_LINEAR)\n",
    "\n",
    "\treturn degraded\n",
    "\n",
    "# Обрабатываем изображения\n",
    "image_files = [f for f in os.listdir(input_folder) if f.endswith((\".png\", \".jpg\"))]\n",
    "\n",
    "# Количество ухудшенных версий для каждого изображения\n",
    "num_versions = 10 \n",
    "\n",
    "for img_name in image_files:\n",
    "\timg_path = os.path.join(input_folder, img_name)\n",
    "\timg = cv2.imread(img_path)\n",
    "\n",
    "\t# Генерируем несколько ухудшенных версий\n",
    "\tfor i in range(num_versions):\n",
    "\t\tdegraded_img = degrade_image_transform(img)\n",
    "\n",
    "\t\t# Сохраняем ухудшенное изображение\n",
    "\t\tsave_path = f\"{output_folder}/{img_name[:-4]}_v{i}.jpg\"\n",
    "\t\tcv2.imwrite(save_path, degraded_img)\n",
    "\n",
    "\n",
    "print(\"Good\")"
   ]
  }
 ],
 "metadata": {
  "kernelspec": {
   "display_name": "Python 3",
   "language": "python",
   "name": "python3"
  },
  "language_info": {
   "codemirror_mode": {
    "name": "ipython",
    "version": 3
   },
   "file_extension": ".py",
   "mimetype": "text/x-python",
   "name": "python",
   "nbconvert_exporter": "python",
   "pygments_lexer": "ipython3",
   "version": "3.10.5"
  }
 },
 "nbformat": 4,
 "nbformat_minor": 2
}
