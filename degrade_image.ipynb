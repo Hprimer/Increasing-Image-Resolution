{
 "cells": [
  {
   "cell_type": "markdown",
   "metadata": {},
   "source": [
    "### degrade_image_shift"
   ]
  },
  {
   "cell_type": "code",
   "execution_count": 1,
   "metadata": {},
   "outputs": [],
   "source": [
    "import cv2\n",
    "import numpy as np\n",
    "import os\n",
    "import json"
   ]
  },
  {
   "cell_type": "code",
   "execution_count": 2,
   "metadata": {},
   "outputs": [],
   "source": [
    "# Папка с оригинальными изображениями\n",
    "input_folder = \"./content/DIV2K\"\n",
    "\n"
   ]
  },
  {
   "cell_type": "markdown",
   "metadata": {},
   "source": [
    "### filtered and  shifted"
   ]
  },
  {
   "cell_type": "code",
   "execution_count": 6,
   "metadata": {},
   "outputs": [
    {
     "name": "stdout",
     "output_type": "stream",
     "text": [
      "Good\n"
     ]
    }
   ],
   "source": [
    "output_folder = \"./content/filtered_shifted\" \n",
    "meta_info_path = f\"{output_folder}/.meta_info.json\"  # Файл для метаинформации\n",
    "\n",
    "os.makedirs(output_folder, exist_ok=True)  # Создаем папку для сохранения\n",
    "\n",
    "\n",
    "# Функция ухудшения через смещение + снижение разрешения \n",
    "def degrade_image_shift(img, scale=5, shift_range=5):\n",
    "    h, w = img.shape[:2]\n",
    "\n",
    "    # 1 Фильтрация (усредняющее размытие)\n",
    "    blurred = cv2.blur(img, (5, 5), borderType=cv2.BORDER_REPLICATE)\n",
    "\n",
    "    # 2 Генерация случайного сдвига\n",
    "    shift_x = np.random.uniform(-shift_range, shift_range)  # Горизонтальный сдвиг\n",
    "    shift_y = np.random.uniform(-shift_range, shift_range)  # Вертикальный сдвиг\n",
    "\n",
    "    # 3 Матрица сдвига\n",
    "    M = np.float32([[1, 0, shift_x], [0, 1, shift_y]])\n",
    "\n",
    "    # 4 Применяем сдвиг\n",
    "    shifted = cv2.warpAffine(blurred, M, (w, h), flags=cv2.INTER_LINEAR, borderMode=cv2.BORDER_REFLECT)\n",
    "\n",
    "    # 5 Уменьшаем разрешение (имитация ухудшения)\n",
    "    small = cv2.resize(shifted, (w // scale, h // scale), interpolation=cv2.INTER_LINEAR)\n",
    "\n",
    "    return small, shift_x, shift_y\n",
    "\n",
    "# Количество ухудшенных версий для каждого изображения\n",
    "num_versions = 10  \n",
    "meta_info = {}\n",
    "\n",
    "\n",
    "# Обрабатываем изображения\n",
    "image_files = [f for f in os.listdir(input_folder) if f.endswith((\".png\"))]\n",
    "\n",
    "for img_name in image_files:\n",
    "    img_path = os.path.join(input_folder, img_name)\n",
    "    img = cv2.imread(img_path)\n",
    "\n",
    "    # Сохраняем метаинформацию о входном изображении\n",
    "    meta_info[img_name] = {\"original_size\": img.shape[:2], \"versions\": []}\n",
    "\n",
    "    # Генерируем несколько ухудшенных версий\n",
    "    for i in range(num_versions):\n",
    "        degraded_img, shift_x, shift_y = degrade_image_shift(img)\n",
    "\n",
    "        # Сохраняем ухудшенное изображение\n",
    "        save_path = f\"{output_folder}/{img_name[:-4]}_v{i}.png\"\n",
    "        cv2.imwrite(save_path, degraded_img)\n",
    "\n",
    "        # Сохраняем параметры преобразования в JSON\n",
    "        meta_info[img_name][\"versions\"].append({\n",
    "            \"file\": f\"{img_name[:-4]}_v{i}.png\",            \n",
    "            \"shift_x\": shift_x,\n",
    "            \"shift_y\": shift_y\n",
    "        })\n",
    "# Сохраняем метаинформацию в JSON\n",
    "with open(meta_info_path, \"w\") as f:\n",
    "    json.dump(meta_info, f, indent=4)\n",
    "\n",
    "print(\"Good\")"
   ]
  },
  {
   "cell_type": "markdown",
   "metadata": {},
   "source": [
    "### filtered, shifted and rotated"
   ]
  },
  {
   "cell_type": "code",
   "execution_count": 7,
   "metadata": {},
   "outputs": [
    {
     "name": "stdout",
     "output_type": "stream",
     "text": [
      "Good\n"
     ]
    }
   ],
   "source": [
    "output_folder = \"./content/filtered_shifted_rotated\"\n",
    "meta_info_path = f\"{output_folder}/.meta_info.json\"  # Файл для метаинформации\n",
    "\n",
    "os.makedirs(output_folder, exist_ok=True)  # Создаем папку для сохранения\n",
    "\n",
    "# Функция ухудшения \n",
    "def degrade_image_transform(img, shift_range=5, rotation_range=10, scale=5):\n",
    "    h, w = img.shape[:2]\n",
    "    \n",
    "    # 1 Фильтрация (усредняющее размытие)\n",
    "    blurred = cv2.blur(img, (5, 5), borderType=cv2.BORDER_REPLICATE)\n",
    "    \n",
    "    # 2 Генерируем случайные параметры\n",
    "    shift_x = np.random.uniform(-shift_range, shift_range)  # Сдвиг по X\n",
    "    shift_y = np.random.uniform(-shift_range, shift_range)  # Сдвиг по Y\n",
    "    angle = np.random.uniform(-rotation_range, rotation_range)  # Поворот в градусах\n",
    "    \n",
    "    # 3 Генерируем координаты для выходного изображения \n",
    "    x_out, y_out = np.meshgrid(np.arange(w), np.arange(h))\n",
    "    center = (w // 2, h // 2)\n",
    "    \n",
    "    # 4 Применяем преобразование подобия\n",
    "    angle_rad = np.deg2rad(angle)  # Переводим градусы в радианы\n",
    "    cos_fi, sin_fi = np.cos(angle_rad), np.sin(angle_rad)\n",
    "    \n",
    "    x_in = (cos_fi * (x_out - center[0]) + sin_fi * (y_out - center[1])) + center[0] + shift_x\n",
    "    y_in = (-sin_fi * (x_out - center[0]) + cos_fi * (y_out - center[1])) + center[1] + shift_y\n",
    "    \n",
    "    # 5 Используем `cv2.remap()` для трансформации\n",
    "    map_x, map_y = x_in.astype(np.float32), y_in.astype(np.float32)\n",
    "    transformed = cv2.remap(blurred, map_x, map_y, interpolation=cv2.INTER_LINEAR, borderMode=cv2.BORDER_CONSTANT, borderValue=0)\n",
    "    \n",
    "    # 6 Уменьшаем изображение\n",
    "    degraded = cv2.resize(transformed, (w // scale, h // scale), interpolation=cv2.INTER_LINEAR)\n",
    "    \n",
    "    return degraded, shift_x, shift_y, angle\n",
    "\n",
    "# Обрабатываем изображения\n",
    "image_files = [f for f in os.listdir(input_folder) if f.endswith(\".png\")]\n",
    "\n",
    "# Количество ухудшенных версий для каждого изображения\n",
    "num_versions = 10 \n",
    "meta_info = {}\n",
    "\n",
    "for img_name in image_files:\n",
    "    img_path = os.path.join(input_folder, img_name)\n",
    "    img = cv2.imread(img_path)\n",
    "\n",
    "    # Сохраняем метаинформацию о входном изображении\n",
    "    meta_info[img_name] = {\"original_size\": img.shape[:2], \"versions\": []}\n",
    "\n",
    "    # Генерируем несколько ухудшенных версий\n",
    "    for i in range(num_versions):\n",
    "        degraded_img, shift_x, shift_y, angle = degrade_image_transform(img)\n",
    "\n",
    "        # Сохраняем ухудшенное изображение\n",
    "        save_path = f\"{output_folder}/{img_name[:-4]}_v{i}.png\"\n",
    "        cv2.imwrite(save_path, degraded_img)\n",
    "                        \n",
    "        # Сохраняем параметры преобразования в JSON\n",
    "        meta_info[img_name][\"versions\"].append({\n",
    "            \"file\": f\"{img_name[:-4]}_v{i}.png\",            \n",
    "            \"shift_x\": shift_x,\n",
    "            \"shift_y\": shift_y,\n",
    "            \"angle\": angle\n",
    "        })\n",
    "\n",
    "# Сохраняем метаинформацию в JSON\n",
    "with open(meta_info_path, \"w\") as f:\n",
    "    json.dump(meta_info, f, indent=4)\n",
    "\n",
    "print(\"Good\")\n"
   ]
  },
  {
   "cell_type": "markdown",
   "metadata": {},
   "source": [
    "### filtered, shifted, rotated and scaled"
   ]
  },
  {
   "cell_type": "code",
   "execution_count": 4,
   "metadata": {},
   "outputs": [
    {
     "name": "stdout",
     "output_type": "stream",
     "text": [
      "Good\n"
     ]
    }
   ],
   "source": [
    "output_folder = \"./content/filtered_shifted_rotated_scaled\"\n",
    "meta_info_path = f\"{output_folder}/.meta_info.json\"  # Файл для метаинформации\n",
    "\n",
    "os.makedirs(output_folder, exist_ok=True)  # Создаем папку для сохранения\n",
    "\n",
    "# Функция ухудшения \n",
    "def degrade_image_transform(img, shift_range=5, rotation_range=10):\n",
    "    h, w = img.shape[:2]\n",
    "    \n",
    "    # 1 Фильтрация (усредняющее размытие)\n",
    "    blurred = cv2.blur(img, (5, 5), borderType=cv2.BORDER_REPLICATE)\n",
    "    \n",
    "    # 2 Генерация случайных параметров\n",
    "    shift_x = np.random.uniform(-shift_range, shift_range)  # Сдвиг по X\n",
    "    shift_y = np.random.uniform(-shift_range, shift_range)  # Сдвиг по Y\n",
    "    angle = np.random.uniform(-rotation_range, rotation_range)  # Поворот в градусах\n",
    "    k = np.random.uniform(4.5, 5.5)  # Коэффициент масштаба\n",
    "    \n",
    "    # 3 Применяем сдвиг и поворот\n",
    "    angle_rad = np.deg2rad(angle)  # Переводим градусы в радианы\n",
    "    cos_fi, sin_fi = np.cos(angle_rad), np.sin(angle_rad)\n",
    "    \n",
    "    center = (w // 2, h // 2)  # Центр изображения\n",
    "    x_out, y_out = np.meshgrid(np.arange(w), np.arange(h))  # Координаты в новом пространстве\n",
    "    \n",
    "    x_in = (cos_fi * (x_out - center[0]) + sin_fi * (y_out - center[1])) + center[0] + shift_x\n",
    "    y_in = (-sin_fi * (x_out - center[0]) + cos_fi * (y_out - center[1])) + center[1] + shift_y\n",
    "    \n",
    "    # 4 Используем `cv2.remap()` для трансформации\n",
    "    map_x, map_y = x_in.astype(np.float32), y_in.astype(np.float32)\n",
    "    transformed = cv2.remap(blurred, map_x, map_y, interpolation=cv2.INTER_LINEAR, borderMode=cv2.BORDER_CONSTANT, borderValue=0)\n",
    "    \n",
    "    # 5 Уменьшаем изображение в k раз\n",
    "    small = cv2.resize(transformed, (int(w // k), int(h // k)), interpolation=cv2.INTER_LINEAR)\n",
    "    \n",
    "    # 6 Увеличиваем изображение обратно в исходный размер\n",
    "    degraded = cv2.resize(small, (w, h), interpolation=cv2.INTER_LINEAR)\n",
    "    \n",
    "    # 7 Уменьшаем изображение в 5 раз\n",
    "    degraded = cv2.resize(degraded, (w // 5, h // 5), interpolation=cv2.INTER_LINEAR)\n",
    "    \n",
    "    return degraded, shift_x, shift_y, angle, k\n",
    "\n",
    "# Обрабатываем изображения\n",
    "image_files = [f for f in os.listdir(input_folder) if f.endswith(\".png\")]\n",
    "\n",
    "# Количество ухудшенных версий для каждого изображения\n",
    "num_versions = 10\n",
    "meta_info = {}\n",
    "\n",
    "for img_name in image_files:\n",
    "    img_path = os.path.join(input_folder, img_name)\n",
    "    img = cv2.imread(img_path)\n",
    "    \n",
    "    meta_info[img_name] = {\"original_size\": img.shape[:2], \"versions\": []}\n",
    "    \n",
    "    for i in range(num_versions):\n",
    "        degraded_img, shift_x, shift_y, angle, k = degrade_image_transform(img)\n",
    "        \n",
    "        save_path = f\"{output_folder}/{img_name[:-4]}_v{i}.png\"\n",
    "        cv2.imwrite(save_path, degraded_img)\n",
    "        \n",
    "        meta_info[img_name][\"versions\"].append({\n",
    "            \"file\": f\"{img_name[:-4]}_v{i}.png\",\n",
    "            \"shift_x\": shift_x,\n",
    "            \"shift_y\": shift_y,\n",
    "            \"angle\": angle,\n",
    "            'scale': k\n",
    "        })\n",
    "\n",
    "with open(meta_info_path, \"w\") as f:\n",
    "    json.dump(meta_info, f, indent=4)\n",
    "\n",
    "print(\"Good\")\n"
   ]
  }
 ],
 "metadata": {
  "kernelspec": {
   "display_name": "Python 3",
   "language": "python",
   "name": "python3"
  },
  "language_info": {
   "codemirror_mode": {
    "name": "ipython",
    "version": 3
   },
   "file_extension": ".py",
   "mimetype": "text/x-python",
   "name": "python",
   "nbconvert_exporter": "python",
   "pygments_lexer": "ipython3",
   "version": "3.10.5"
  }
 },
 "nbformat": 4,
 "nbformat_minor": 2
}
